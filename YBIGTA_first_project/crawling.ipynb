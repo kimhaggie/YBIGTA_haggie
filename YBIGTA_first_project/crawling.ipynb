{
 "cells": [
  {
   "cell_type": "code",
   "execution_count": null,
   "metadata": {},
   "outputs": [],
   "source": [
    "from selenium import webdriver\n",
    "from selenium.webdriver.common.keys import Keys\n",
    "import json\n",
    "import os\n",
    "import urllib.request\n",
    " \n",
    "#찾고자 하는 검색어를 url로 만들어 준다.\n",
    "#-----------------------------------수정할 것--------------------------------------------------\n",
    "searchterm = 'Squirtle'\n",
    "#-------------------구글링할 때 검색하고 싶은 단어 검색하셈ㅠㅠㅠ 난 꼬부기로했었음------------\n",
    "url = \"https://www.google.com/search?q=\"+searchterm+\"&source=lnms&tbm=isch\"\n",
    "# chrom webdriver 사용하여 브라우저를 가져온다.\n",
    "#-----------------------------------수정할 것--------------------------------------------------\n",
    "browser = webdriver.Chrome(r\"C:\\Users\\kimha\\Desktop\\chromedriver_win32\\chromedriver.exe\" )\n",
    "#---------------------본인 크롬드라이버 위치 복붙해 넣으면 됨----------------------------------\n",
    "browser.get(url)"
   ]
  },
  {
   "cell_type": "code",
   "execution_count": null,
   "metadata": {},
   "outputs": [],
   "source": [
    "# User-Agent를 통해 봇이 아닌 유저정보라는 것을 위해 사용\n",
    "header={'User-Agent':\"Mozilla/5.0 (Windows NT 6.1; WOW64) AppleWebKit/537.36 (KHTML, like Gecko) Chrome/43.0.2357.134 Safari/537.36\"}\n",
    "# 이미지 카운트 (이미지 저장할 때 사용하기 위해서)\n",
    "counter = 0\n",
    "succounter = 0\n",
    " \n",
    "print(os.path)\n",
    "# 소스코드가 있는 경로에 '검색어' 폴더가 없으면 만들어준다.(이미지 저장 폴더를 위해서) \n",
    "if not os.path.exists(searchterm):\n",
    "    os.mkdir(searchterm)\n",
    " #-----------------------------------수정할 것--------------------------------------------------\n",
    "for _ in range(500):\n",
    "    # 가로 = 0, 세로 = 10000 픽셀 스크롤한다.\n",
    "    browser.execute_script(\"window.scrollBy(0,10000)\")\n",
    "#-------------------페이지 수 얼만큼 할건지 정할 것 여기는 500으로 되있네-----------------------\n"
   ]
  },
  {
   "cell_type": "code",
   "execution_count": null,
   "metadata": {},
   "outputs": [],
   "source": [
    "# div태그에서 class name이 rg_meta인 것을 찾아온다\n",
    "for x in browser.find_elements_by_xpath('//div[contains(@class,\"rg_meta\")]'):\n",
    "    counter = counter + 1\n",
    "    print (\"Total Count:\", counter)\n",
    "    print (\"Succsessful Count:\", succounter)\n",
    "    print (\"URL:\",json.loads(x.get_attribute('innerHTML'))[\"ou\"])\n",
    " \n",
    "    # 이미지 url\n",
    "    img = json.loads(x.get_attribute('innerHTML'))[\"ou\"]\n",
    "    # 이미지 확장자\n",
    "    imgtype = json.loads(x.get_attribute('innerHTML'))[\"ity\"]\n",
    "    \n",
    "    # 구글 이미지를 읽고 저장한다.\n",
    "    try:\n",
    "    #req = urllib.request.Request(img, headers={'User-Agent': header})\n",
    "    #raw_img = urllib.request.urlopen(req).read()\n",
    "        raw_img = urllib.request.urlopen(img).read()\n",
    "        File = open(os.path.join(searchterm , searchterm + \"_\" + str(counter) + \".\" + imgtype), \"wb\")\n",
    "        File.write(raw_img)\n",
    "        File.close()\n",
    "        succounter = succounter + 1\n",
    "    except:\n",
    "            print (\"can't get img\")\n",
    "            \n",
    "print (succounter, \"succesfully downloaded\")"
   ]
  }
 ],
 "metadata": {
  "kernelspec": {
   "display_name": "Python 3",
   "language": "python",
   "name": "python3"
  },
  "language_info": {
   "codemirror_mode": {
    "name": "ipython",
    "version": 3
   },
   "file_extension": ".py",
   "mimetype": "text/x-python",
   "name": "python",
   "nbconvert_exporter": "python",
   "pygments_lexer": "ipython3",
   "version": "3.7.3"
  }
 },
 "nbformat": 4,
 "nbformat_minor": 2
}
